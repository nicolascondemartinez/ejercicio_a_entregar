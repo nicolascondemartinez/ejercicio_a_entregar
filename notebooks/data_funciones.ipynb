{
 "cells": [
  {
   "cell_type": "markdown",
   "id": "92904921-abd1-4b08-8aa2-e38e471603f1",
   "metadata": {},
   "source": [
    "# 10. Simulación de partidas y ranking en shooter online\n",
    "### Simule varias partidas de un juego de disparos y genere un ranking basado en el puntaje total de cada jugador. Se utilizará el siguiente sistema de puntuación: \n",
    "\n",
    "| Acción       | Puntos |\n",
    "|------------|--------|\n",
    "|  Kill       | +3     |\n",
    "|  Asistencia | +1     |\n",
    "|  Muerte     | -1     |\n"
   ]
  },
  {
   "cell_type": "markdown",
   "id": "f14e4c4f-0224-4c9f-b568-b684d48c64f3",
   "metadata": {},
   "source": [
    "### Dado el siguiente conjunto de rondas:"
   ]
  },
  {
   "cell_type": "code",
   "execution_count": 1,
   "id": "f534e197-1782-469d-8b54-8bdc03cf9274",
   "metadata": {},
   "outputs": [],
   "source": [
    "rounds = [\n",
    "    {\n",
    "        'Shadow': {'kills': 2, 'assists': 1, 'deaths': True},\n",
    "        'Blaze': {'kills': 1, 'assists': 0, 'deaths': False},\n",
    "        'Viper': {'kills': 1, 'assists': 2, 'deaths': True},\n",
    "        'Frost': {'kills': 0, 'assists': 1, 'deaths': False},\n",
    "        'Reaper': {'kills': 1, 'assists': 1, 'deaths': False}\n",
    "    },\n",
    "    {\n",
    "        'Shadow': {'kills': 0, 'assists': 2, 'deaths': False},\n",
    "        'Blaze': {'kills': 2, 'assists': 0, 'deaths': True},\n",
    "        'Viper': {'kills': 1, 'assists': 1, 'deaths': False},\n",
    "        'Frost': {'kills': 2, 'assists': 1, 'deaths': True},\n",
    "        'Reaper': {'kills': 0, 'assists': 1, 'deaths': False}\n",
    "    },\n",
    "    {\n",
    "        'Shadow': {'kills': 1, 'assists': 0, 'deaths': False},\n",
    "        'Blaze': {'kills': 2, 'assists': 2, 'deaths': True},\n",
    "        'Viper': {'kills': 1, 'assists': 1, 'deaths': True},\n",
    "        'Frost': {'kills': 0, 'assists': 1, 'deaths': False},\n",
    "        'Reaper': {'kills': 1, 'assists': 1, 'deaths': False}\n",
    "    },{\n",
    "        'Shadow': {'kills': 2, 'assists': 1, 'deaths': False},\n",
    "        'Blaze': {'kills': 1, 'assists': 0, 'deaths': True},\n",
    "        'Viper': {'kills': 0, 'assists': 2, 'deaths': False},\n",
    "        'Frost': {'kills': 1, 'assists': 1, 'deaths': True},\n",
    "        'Reaper': {'kills': 1, 'assists': 1, 'deaths': False}\n",
    "    },\n",
    "    {\n",
    "        'Shadow': {'kills': 1, 'assists': 2, 'deaths': True},\n",
    "        'Blaze': {'kills': 0, 'assists': 1, 'deaths': False},\n",
    "        'Viper': {'kills': 2, 'assists': 0, 'deaths': True},\n",
    "        'Frost': {'kills': 1, 'assists': 1, 'deaths': False},\n",
    "        'Reaper': {'kills': 1, 'assists': 1, 'deaths': True}\n",
    "    }\n",
    "]\n",
    "    "
   ]
  },
  {
   "cell_type": "markdown",
   "id": "117efb26-f33b-4efe-a96d-e01a6d2d3904",
   "metadata": {},
   "source": [
    "### Imprima las tablas de resultados luego de la inserción de cada una de las rondas pudiendo ver el progreso en el equipo.\n",
    "\n",
    "### Además cada ronda debe tener un MVP (Mejor Jugador del Partido/ronda) basado en su puntuación. La cantidad de veces que el jugador ha sido MVP también se debe contabilizar\n",
    "\n",
    "### Se debe imprimir el total de kills, asistencias, muertes, cantidad de MVP y puntos totales. La tabla tienen que estar en orden decreciente por los puntos totales.\n"
   ]
  },
  {
   "cell_type": "markdown",
   "id": "ff572867-75be-4a30-ad8e-2e268133e096",
   "metadata": {},
   "source": [
    "#\n",
    "#"
   ]
  },
  {
   "cell_type": "markdown",
   "id": "f9a60cdb-d805-4dc1-946e-5eb87c209c51",
   "metadata": {},
   "source": [
    "#### Para resolver este ejercicio primero busco el directorio del proyecto para poder mostrar los resultados al final de este notebook. Aquí para ejecutarlo debes buscar tu propio directorio"
   ]
  },
  {
   "cell_type": "code",
   "execution_count": 2,
   "id": "fcf5a6a1-d086-42a1-879b-247bc398fc36",
   "metadata": {},
   "outputs": [],
   "source": [
    "\n",
    "import sys\n",
    "\n",
    "\n",
    "# Obtener la ruta absoluta del directorio raiz del proyecto\n",
    "sys.path.append(r\"C:\\Users\\Nicolas\\OneDrive\\Escritorio\\Seminario de Python\\ejercicio_a_entregar\")"
   ]
  },
  {
   "cell_type": "markdown",
   "id": "a435be40-815e-41cb-97c1-b29c1ee6979a",
   "metadata": {},
   "source": [
    "#### Trabajamos con la funcion ``` funciones.calcular_puntaje() ``` para calcular el puntaje de cada jugador"
   ]
  },
  {
   "cell_type": "markdown",
   "id": "5ca02ff4-0ee7-4bf2-9ac1-0218cc81d747",
   "metadata": {},
   "source": [
    "#### Dentro de la carpeta funciones utilizamos ```funciones.procesar_ronda()``` y ```funciones.actualizar_totales``` para acomodar los datos originales y facilitar la impresión"
   ]
  },
  {
   "cell_type": "markdown",
   "id": "850f7e01-2f6d-4814-a587-8cc16c8492b5",
   "metadata": {},
   "source": [
    "#### Las otras dos funciones: ```funciones.imprimir_ronda``` y ```funciones.imprimir_totales``` reciben las rondas ordenadas en formato tuplas para imprimirlas"
   ]
  },
  {
   "cell_type": "markdown",
   "id": "b04dc106-d4cb-44bf-9f3a-ae91769e6384",
   "metadata": {},
   "source": [
    "#### Finalmente el programa se corre de manera muy sencilla importando las funciones y corriendo la última función que llama a las anteriores (```funciones.imprimir_total```) para ver las rondas como nos pide el ejercicio"
   ]
  },
  {
   "cell_type": "code",
   "execution_count": 3,
   "id": "72968105-95fb-4eb5-a4a9-0e74d7dc752c",
   "metadata": {},
   "outputs": [
    {
     "name": "stdout",
     "output_type": "stream",
     "text": [
      "\n",
      "Ranking ronda 1:\n",
      "Jugador    Kills  Asistencias Muerte   Puntos\n",
      "---------------------------------------------\n",
      "Shadow       2        1         Sí       6     \n",
      "Viper        1        2         Sí       4     \n",
      "Reaper       1        1         No       4     \n",
      "Blaze        1        0         No       3     \n",
      "Frost        0        1         No       1     \n",
      "\n",
      "Ranking ronda 2:\n",
      "Jugador    Kills  Asistencias Muerte   Puntos\n",
      "---------------------------------------------\n",
      "Frost        2        1         Sí       6     \n",
      "Blaze        2        0         Sí       5     \n",
      "Viper        1        1         No       4     \n",
      "Shadow       0        2         No       2     \n",
      "Reaper       0        1         No       1     \n",
      "\n",
      "Ranking ronda 3:\n",
      "Jugador    Kills  Asistencias Muerte   Puntos\n",
      "---------------------------------------------\n",
      "Blaze        2        2         Sí       7     \n",
      "Reaper       1        1         No       4     \n",
      "Shadow       1        0         No       3     \n",
      "Viper        1        1         Sí       3     \n",
      "Frost        0        1         No       1     \n",
      "\n",
      "Ranking ronda 4:\n",
      "Jugador    Kills  Asistencias Muerte   Puntos\n",
      "---------------------------------------------\n",
      "Shadow       2        1         No       7     \n",
      "Reaper       1        1         No       4     \n",
      "Frost        1        1         Sí       3     \n",
      "Blaze        1        0         Sí       2     \n",
      "Viper        0        2         No       2     \n",
      "\n",
      "Ranking ronda 5:\n",
      "Jugador    Kills  Asistencias Muerte   Puntos\n",
      "---------------------------------------------\n",
      "Viper        2        0         Sí       5     \n",
      "Shadow       1        2         Sí       4     \n",
      "Frost        1        1         No       4     \n",
      "Reaper       1        1         Sí       3     \n",
      "Blaze        0        1         No       1     \n",
      "\n",
      "Ranking final:\n",
      "Jugador    Kills  Asistencias Muertes  MVPs  Puntos\n",
      "---------------------------------------------------\n",
      "Shadow       6        6         2        2     23    \n",
      "Blaze        6        3         3        1     20    \n",
      "Viper        5        6         3        1     20    \n",
      "Frost        4        5         2        1     16    \n",
      "Reaper       4        5         1        0     16    \n"
     ]
    }
   ],
   "source": [
    "\n",
    "from src import funciones\n",
    "\n",
    "\n",
    "\n",
    "funciones.imprimir_total(rounds)"
   ]
  }
 ],
 "metadata": {
  "kernelspec": {
   "display_name": "Python 3 (ipykernel)",
   "language": "python",
   "name": "python3"
  },
  "language_info": {
   "codemirror_mode": {
    "name": "ipython",
    "version": 3
   },
   "file_extension": ".py",
   "mimetype": "text/x-python",
   "name": "python",
   "nbconvert_exporter": "python",
   "pygments_lexer": "ipython3",
   "version": "3.12.9"
  }
 },
 "nbformat": 4,
 "nbformat_minor": 5
}
